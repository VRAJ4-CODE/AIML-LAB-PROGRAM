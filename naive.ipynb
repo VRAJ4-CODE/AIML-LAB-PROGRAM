{
 "cells": [
  {
   "cell_type": "code",
   "execution_count": 10,
   "metadata": {},
   "outputs": [
    {
     "name": "stdout",
     "output_type": "stream",
     "text": [
      "Predicted: ['No' 'No' 'Yes' 'Yes' 'Yes' 'Yes' 'Yes' 'No' 'Yes' 'Yes' 'Yes' 'Yes'\n",
      " 'Yes' 'No']\n",
      "Expected:  ['No' 'No' 'Yes' 'Yes' 'Yes' 'No' 'Yes' 'No' 'Yes' 'Yes' 'Yes' 'Yes' 'Yes'\n",
      " 'No']\n",
      "P(A) : [-1.02961942 -0.44183275]\n",
      "\n",
      "P(X/A) : [array([[-2.07944154, -0.98082925, -0.69314718],\n",
      "       [-0.87546874, -1.09861229, -1.38629436]]), array([[-1.38629436, -0.98082925, -0.98082925],\n",
      "       [-1.09861229, -1.38629436, -0.87546874]]), array([[-0.33647224, -1.25276297],\n",
      "       [-1.01160091, -0.45198512]]), array([[-0.55961579, -0.84729786],\n",
      "       [-1.01160091, -0.45198512]])]\n",
      "\n",
      "P(X) : [5. 9.]\n",
      "\n",
      "Expected : No \n",
      "\n",
      "Misclassification Count=1\n",
      "Misclassification Rate=7.142857142857139%\n",
      "Accuracy=92.85714285714286%\n"
     ]
    }
   ],
   "source": [
    "import pandas as pd\n",
    "from sklearn.preprocessing import LabelEncoder\n",
    "from sklearn.naive_bayes import CategoricalNB\n",
    "df = pd.read_csv('PlayTennis.csv' )\n",
    "le = LabelEncoder()\n",
    "df = df.apply(le.fit_transform)\n",
    "X = df.drop('Play Tennis', axis=1)\n",
    "y = df['Play Tennis']\n",
    "model = CategoricalNB()\n",
    "model.fit(X, y)\n",
    "y_pred = model.predict(X)\n",
    "y_pred_labels = le.inverse_transform(y_pred)\n",
    "y_labels = le.inverse_transform(y)\n",
    "accuracy = (y_pred == y).mean() * 100\n",
    "misclassification_rate = 100 - accuracy\n",
    "misclassification_count = len(y) - sum(y_pred == y)\n",
    "print(\"Predicted:\", y_pred_labels)\n",
    "print(\"Expected: \", y_labels)\n",
    "print(f\"P(A) : {model.class_log_prior_}\\n\")\n",
    "print(f\"P(X/A) : {model.feature_log_prob_}\\n\")\n",
    "print(f\"P(X) : {model.class_count_}\\n\")\n",
    "print(f\"Expected : No \\n\")\n",
    "print(f\"Misclassification Count={misclassification_count}\")\n",
    "print(f\"Misclassification Rate={misclassification_rate}%\")\n",
    "print(f\"Accuracy={accuracy}%\")"
   ]
  }
 ],
 "metadata": {
  "kernelspec": {
   "display_name": "base",
   "language": "python",
   "name": "python3"
  },
  "language_info": {
   "codemirror_mode": {
    "name": "ipython",
    "version": 3
   },
   "file_extension": ".py",
   "mimetype": "text/x-python",
   "name": "python",
   "nbconvert_exporter": "python",
   "pygments_lexer": "ipython3",
   "version": "3.11.5"
  }
 },
 "nbformat": 4,
 "nbformat_minor": 2
}
